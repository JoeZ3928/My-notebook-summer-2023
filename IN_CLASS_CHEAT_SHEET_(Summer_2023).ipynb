{
  "nbformat": 4,
  "nbformat_minor": 0,
  "metadata": {
    "colab": {
      "provenance": [],
      "collapsed_sections": [
        "rpnQEg_YeMeQ",
        "ds6ET5i4eQO7",
        "4-bfhqcNeSLL",
        "ytBi6NpGl4u7",
        "pEtmrNUCvIyv",
        "ain7Gqu-iTYU"
      ],
      "toc_visible": true,
      "include_colab_link": true
    },
    "kernelspec": {
      "name": "python3",
      "display_name": "Python 3"
    },
    "language_info": {
      "name": "python"
    }
  },
  "cells": [
    {
      "cell_type": "markdown",
      "metadata": {
        "id": "view-in-github",
        "colab_type": "text"
      },
      "source": [
        "<a href=\"https://colab.research.google.com/github/JoeZ3928/My-notebook-summer-2023/blob/main/IN_CLASS_CHEAT_SHEET_(Summer_2023).ipynb\" target=\"_parent\"><img src=\"https://colab.research.google.com/assets/colab-badge.svg\" alt=\"Open In Colab\"/></a>"
      ]
    },
    {
      "cell_type": "markdown",
      "source": [
        "# Built In Functions\n",
        "\n",
        "https://docs.python.org/3/library/functions.html"
      ],
      "metadata": {
        "id": "rpnQEg_YeMeQ"
      }
    },
    {
      "cell_type": "markdown",
      "source": [
        "## Print Function"
      ],
      "metadata": {
        "id": "1vgU4Tf6eOh3"
      }
    },
    {
      "cell_type": "markdown",
      "source": [
        "Printing a single item:"
      ],
      "metadata": {
        "id": "4rTK6ZImFJ3B"
      }
    },
    {
      "cell_type": "code",
      "source": [
        "x = 5\n",
        "\n",
        "print(x)"
      ],
      "metadata": {
        "id": "VAcLU07seUHl",
        "colab": {
          "base_uri": "https://localhost:8080/"
        },
        "outputId": "61af6f48-7fee-436c-93d8-003fcd322eb7"
      },
      "execution_count": null,
      "outputs": [
        {
          "output_type": "stream",
          "name": "stdout",
          "text": [
            "5\n"
          ]
        }
      ]
    },
    {
      "cell_type": "markdown",
      "source": [
        "Printing comma separated items:"
      ],
      "metadata": {
        "id": "JwLKM3DfFHsi"
      }
    },
    {
      "cell_type": "code",
      "source": [
        "print(x, \"hello\", 8)"
      ],
      "metadata": {
        "id": "4X6qG1YNeTxZ",
        "colab": {
          "base_uri": "https://localhost:8080/"
        },
        "outputId": "e59813a6-f76a-419a-9f14-6034fa68f30b"
      },
      "execution_count": null,
      "outputs": [
        {
          "output_type": "stream",
          "name": "stdout",
          "text": [
            "5 hello 8\n"
          ]
        }
      ]
    },
    {
      "cell_type": "markdown",
      "source": [
        "Printing vs displaying the last thing in a code cell:"
      ],
      "metadata": {
        "id": "Qkxvf2-NFXJR"
      }
    },
    {
      "cell_type": "code",
      "source": [
        "z = 10\n",
        "#print(z)\n",
        "\n",
        "z"
      ],
      "metadata": {
        "id": "a43sZfNoFZ57",
        "colab": {
          "base_uri": "https://localhost:8080/"
        },
        "outputId": "bd8181d6-f173-41fa-a90a-234a07e9a29d"
      },
      "execution_count": null,
      "outputs": [
        {
          "output_type": "execute_result",
          "data": {
            "text/plain": [
              "10"
            ]
          },
          "metadata": {},
          "execution_count": 10
        }
      ]
    },
    {
      "cell_type": "code",
      "source": [],
      "metadata": {
        "id": "IOeYv7ZcFaZy"
      },
      "execution_count": null,
      "outputs": []
    },
    {
      "cell_type": "markdown",
      "source": [
        "## Input Function"
      ],
      "metadata": {
        "id": "cvThiz1bjZaU"
      }
    },
    {
      "cell_type": "markdown",
      "source": [
        "Capturing user inputs:"
      ],
      "metadata": {
        "id": "t6lsWIhRFbfR"
      }
    },
    {
      "cell_type": "code",
      "source": [
        "my_name = input(\"Please input your name: \")\n",
        "print(\"NAME:\", my_name)"
      ],
      "metadata": {
        "id": "F3QYFp9fjbDD",
        "colab": {
          "base_uri": "https://localhost:8080/"
        },
        "outputId": "75b790f5-813e-4d06-c989-ccdcfc450ea9"
      },
      "execution_count": null,
      "outputs": [
        {
          "output_type": "stream",
          "name": "stdout",
          "text": [
            "Please input your name: MJR\n",
            "NAME: MJR\n"
          ]
        }
      ]
    },
    {
      "cell_type": "code",
      "source": [],
      "metadata": {
        "id": "ces3qthFkFCb"
      },
      "execution_count": null,
      "outputs": []
    },
    {
      "cell_type": "markdown",
      "source": [
        "## Variables"
      ],
      "metadata": {
        "id": "RXwftOtN3Kw3"
      }
    },
    {
      "cell_type": "markdown",
      "source": [
        "We use the single equals sign for variable assignment.\n",
        "\n"
      ],
      "metadata": {
        "id": "aRwxqg5S3mXO"
      }
    },
    {
      "cell_type": "code",
      "source": [],
      "metadata": {
        "id": "1qZrHvNU3xao"
      },
      "execution_count": null,
      "outputs": []
    },
    {
      "cell_type": "markdown",
      "source": [
        "A variable's value can change over time (i.e. be overwritten / reset):\n",
        "\n"
      ],
      "metadata": {
        "id": "s7MWWl1u3L_i"
      }
    },
    {
      "cell_type": "code",
      "source": [],
      "metadata": {
        "id": "IXoBCnxe3R4S"
      },
      "execution_count": null,
      "outputs": []
    },
    {
      "cell_type": "code",
      "source": [],
      "metadata": {
        "id": "4vza3RDX3SN3"
      },
      "execution_count": null,
      "outputs": []
    },
    {
      "cell_type": "markdown",
      "source": [
        "Whatever value is to the right of the equals sign will be assigned to the variable to the left of the equals sign.\n",
        "\n",
        "We can reference the variable's previous value during our process of assigning a new value:"
      ],
      "metadata": {
        "id": "LnxTDTl53UOM"
      }
    },
    {
      "cell_type": "code",
      "source": [
        "x=5\n",
        "print(5)\n",
        "x=20\n",
        "print(x)\n",
        "\n",
        "x=x*10\n",
        "print(x)\n",
        "\n",
        "x+=10\n",
        "print(x)"
      ],
      "metadata": {
        "id": "bz30841j3Shz",
        "outputId": "3dcc318b-283c-4b51-a223-b2efe6d6178a",
        "colab": {
          "base_uri": "https://localhost:8080/"
        }
      },
      "execution_count": 6,
      "outputs": [
        {
          "output_type": "stream",
          "name": "stdout",
          "text": [
            "5\n",
            "20\n",
            "200\n",
            "210\n"
          ]
        }
      ]
    },
    {
      "cell_type": "code",
      "source": [
        "x=5\n",
        "print(5)\n",
        "x=20\n",
        "print(x)\n",
        "\n",
        "x=x*10\n",
        "print(x)\n",
        "\n",
        "x+=10\n",
        "print(x)"
      ],
      "metadata": {
        "id": "vm9glTJm54pa",
        "outputId": "721a7bd9-e2bd-4ed9-a56e-b3be4ec8fe4a",
        "colab": {
          "base_uri": "https://localhost:8080/"
        }
      },
      "execution_count": 7,
      "outputs": [
        {
          "output_type": "stream",
          "name": "stdout",
          "text": [
            "5\n",
            "20\n",
            "200\n",
            "210\n"
          ]
        }
      ]
    },
    {
      "cell_type": "markdown",
      "source": [
        "# Basic Datatypes"
      ],
      "metadata": {
        "id": "ds6ET5i4eQO7"
      }
    },
    {
      "cell_type": "code",
      "source": [
        "print(type(\"Hello\"))\n",
        "print(type(\"100\"))"
      ],
      "metadata": {
        "id": "xNPqUtULeUqV",
        "outputId": "c54690e6-b173-4edd-be6e-9048400880d7",
        "colab": {
          "base_uri": "https://localhost:8080/"
        }
      },
      "execution_count": 8,
      "outputs": [
        {
          "output_type": "stream",
          "name": "stdout",
          "text": [
            "<class 'str'>\n",
            "<class 'str'>\n"
          ]
        }
      ]
    },
    {
      "cell_type": "code",
      "source": [
        "print(type(100))\n",
        "print(type(0.45))"
      ],
      "metadata": {
        "id": "wWpcgzNUf5bB",
        "outputId": "9705705c-76f7-45ce-9619-b7399ec3241f",
        "colab": {
          "base_uri": "https://localhost:8080/"
        }
      },
      "execution_count": 9,
      "outputs": [
        {
          "output_type": "stream",
          "name": "stdout",
          "text": [
            "<class 'int'>\n",
            "<class 'float'>\n"
          ]
        }
      ]
    },
    {
      "cell_type": "code",
      "source": [
        "print(type(True))\n",
        "print(type(False))"
      ],
      "metadata": {
        "id": "IdDGpVF9f6YP",
        "outputId": "ad6b993b-06b3-40e7-bac7-0edd5ab07487",
        "colab": {
          "base_uri": "https://localhost:8080/"
        }
      },
      "execution_count": 10,
      "outputs": [
        {
          "output_type": "stream",
          "name": "stdout",
          "text": [
            "<class 'bool'>\n",
            "<class 'bool'>\n"
          ]
        }
      ]
    },
    {
      "cell_type": "code",
      "source": [
        "print(type(None))"
      ],
      "metadata": {
        "id": "-i_yPrk1gPQc",
        "outputId": "2b43e532-9314-4bff-aa2f-ec0bbce88553",
        "colab": {
          "base_uri": "https://localhost:8080/"
        }
      },
      "execution_count": 11,
      "outputs": [
        {
          "output_type": "stream",
          "name": "stdout",
          "text": [
            "<class 'NoneType'>\n"
          ]
        }
      ]
    },
    {
      "cell_type": "code",
      "source": [
        "print(type({\"a\":1, \"b\":2, \"c\":3}))"
      ],
      "metadata": {
        "id": "6Z8VhXbUgq0J",
        "outputId": "cb303147-0d96-4e26-8a70-31225c6ee529",
        "colab": {
          "base_uri": "https://localhost:8080/"
        }
      },
      "execution_count": 12,
      "outputs": [
        {
          "output_type": "stream",
          "name": "stdout",
          "text": [
            "<class 'dict'>\n"
          ]
        }
      ]
    },
    {
      "cell_type": "code",
      "source": [
        "print(type([1,2,3]))"
      ],
      "metadata": {
        "id": "C0auybWTg5Hw"
      },
      "execution_count": null,
      "outputs": []
    },
    {
      "cell_type": "markdown",
      "source": [
        "## Numbers"
      ],
      "metadata": {
        "id": "eZX7YN3mhNE-"
      }
    },
    {
      "cell_type": "code",
      "source": [
        "x = 6\n",
        "print(x)"
      ],
      "metadata": {
        "id": "EppTCFpThPup",
        "colab": {
          "base_uri": "https://localhost:8080/"
        },
        "outputId": "86113bac-ae43-48ae-8460-88c4cff80f7a"
      },
      "execution_count": null,
      "outputs": [
        {
          "output_type": "stream",
          "name": "stdout",
          "text": [
            "6\n"
          ]
        }
      ]
    },
    {
      "cell_type": "code",
      "source": [
        "print(200 + 5)"
      ],
      "metadata": {
        "id": "SgDQWTqmhY4e",
        "colab": {
          "base_uri": "https://localhost:8080/"
        },
        "outputId": "9b248f0d-4a92-43f5-eb16-47370e100511"
      },
      "execution_count": null,
      "outputs": [
        {
          "output_type": "stream",
          "name": "stdout",
          "text": [
            "205\n"
          ]
        }
      ]
    },
    {
      "cell_type": "code",
      "source": [
        "speed_mph = 100\n",
        "print(speed_mph)"
      ],
      "metadata": {
        "id": "EibqXWDFhrjM",
        "colab": {
          "base_uri": "https://localhost:8080/"
        },
        "outputId": "ec6936bc-fd80-4228-fcab-e3cdda18d322"
      },
      "execution_count": null,
      "outputs": [
        {
          "output_type": "stream",
          "name": "stdout",
          "text": [
            "100\n"
          ]
        }
      ]
    },
    {
      "cell_type": "code",
      "source": [
        "# variable names need underscores (no spaces)\n",
        "# speed mph = 100\n"
      ],
      "metadata": {
        "id": "GbqMf5F3iHDv",
        "colab": {
          "base_uri": "https://localhost:8080/",
          "height": 133
        },
        "outputId": "30dcbe49-931d-4ed5-f9d3-7c76a78b5346"
      },
      "execution_count": null,
      "outputs": [
        {
          "output_type": "error",
          "ename": "SyntaxError",
          "evalue": "ignored",
          "traceback": [
            "\u001b[0;36m  File \u001b[0;32m\"<ipython-input-7-878f77983298>\"\u001b[0;36m, line \u001b[0;32m1\u001b[0m\n\u001b[0;31m    speed mph = 100\u001b[0m\n\u001b[0m          ^\u001b[0m\n\u001b[0;31mSyntaxError\u001b[0m\u001b[0;31m:\u001b[0m invalid syntax\n"
          ]
        }
      ]
    },
    {
      "cell_type": "code",
      "source": [],
      "metadata": {
        "id": "b5QmsHpuiQNu"
      },
      "execution_count": null,
      "outputs": []
    },
    {
      "cell_type": "code",
      "source": [],
      "metadata": {
        "id": "U0kyZ5k3iS55"
      },
      "execution_count": null,
      "outputs": []
    },
    {
      "cell_type": "markdown",
      "source": [
        "## Strings"
      ],
      "metadata": {
        "id": "lQpbh3TJhL3i"
      }
    },
    {
      "cell_type": "code",
      "source": [
        "message = \"write anything with space\"\n",
        "print(message)"
      ],
      "metadata": {
        "id": "vxuepNBzhPVq",
        "outputId": "01abc938-f83e-418c-daf9-18d9fbfc9ccc",
        "colab": {
          "base_uri": "https://localhost:8080/"
        }
      },
      "execution_count": 15,
      "outputs": [
        {
          "output_type": "stream",
          "name": "stdout",
          "text": [
            "write anything with space\n"
          ]
        }
      ]
    },
    {
      "cell_type": "code",
      "source": [],
      "metadata": {
        "id": "qA9iEHWgig9h",
        "outputId": "4b1eb95d-6278-46b3-9214-21ee51576941",
        "colab": {
          "base_uri": "https://localhost:8080/",
          "height": 130
        }
      },
      "execution_count": 13,
      "outputs": [
        {
          "output_type": "error",
          "ename": "SyntaxError",
          "evalue": "ignored",
          "traceback": [
            "\u001b[0;36m  File \u001b[0;32m\"<ipython-input-13-d68af7b956f2>\"\u001b[0;36m, line \u001b[0;32m1\u001b[0m\n\u001b[0;31m    write anyhting with space\u001b[0m\n\u001b[0m          ^\u001b[0m\n\u001b[0;31mSyntaxError\u001b[0m\u001b[0;31m:\u001b[0m invalid syntax\n"
          ]
        }
      ]
    },
    {
      "cell_type": "markdown",
      "source": [
        "Concatenation"
      ],
      "metadata": {
        "id": "EJiMWAnZi6ED"
      }
    },
    {
      "cell_type": "code",
      "source": [
        "\"HELLO\" + \"WORLD\""
      ],
      "metadata": {
        "id": "nYNh3PuVilWV"
      },
      "execution_count": null,
      "outputs": []
    },
    {
      "cell_type": "code",
      "source": [
        "\"HELLO \" + \"WORLD\""
      ],
      "metadata": {
        "id": "0rdw3_fEi_Pv"
      },
      "execution_count": null,
      "outputs": []
    },
    {
      "cell_type": "code",
      "source": [
        "\"HELLO\" + \" WORLD\""
      ],
      "metadata": {
        "id": "05kwow1tjF0d"
      },
      "execution_count": null,
      "outputs": []
    },
    {
      "cell_type": "code",
      "source": [
        "\"HELLO\" + \" \" + \"WORLD\""
      ],
      "metadata": {
        "id": "vA6PGIb1jHb5"
      },
      "execution_count": null,
      "outputs": []
    },
    {
      "cell_type": "markdown",
      "source": [
        "Why datatypes matter. We can perform the same operation, but it will do different things depending on which type of data we are working with:"
      ],
      "metadata": {
        "id": "sjgqCZAf6RtF"
      }
    },
    {
      "cell_type": "code",
      "source": [
        "print(2 + 2)\n",
        "\n",
        "print(\"2\" + \"2\")\n",
        "\n",
        "# print(2 + \"2\") #> TypeError: unsupported operand type(s) for +: 'int' and 'str'"
      ],
      "metadata": {
        "id": "NUDc7DuyjSax"
      },
      "execution_count": null,
      "outputs": []
    },
    {
      "cell_type": "markdown",
      "source": [
        "Format strings:"
      ],
      "metadata": {
        "id": "JE2Rju_J6Yeg"
      }
    },
    {
      "cell_type": "code",
      "source": [
        "x=\"world\"\n",
        "print(f\"Hello\"+ {x})"
      ],
      "metadata": {
        "id": "ou7O9UhE7SYX",
        "outputId": "a2c67b31-6208-4458-ce41-c0d8c19dbfa8",
        "colab": {
          "base_uri": "https://localhost:8080/",
          "height": 181
        }
      },
      "execution_count": 46,
      "outputs": [
        {
          "output_type": "error",
          "ename": "TypeError",
          "evalue": "ignored",
          "traceback": [
            "\u001b[0;31m---------------------------------------------------------------------------\u001b[0m",
            "\u001b[0;31mTypeError\u001b[0m                                 Traceback (most recent call last)",
            "\u001b[0;32m<ipython-input-46-9928c2c7d7e0>\u001b[0m in \u001b[0;36m<cell line: 2>\u001b[0;34m()\u001b[0m\n\u001b[1;32m      1\u001b[0m \u001b[0mx\u001b[0m\u001b[0;34m=\u001b[0m\u001b[0;34m\"world\"\u001b[0m\u001b[0;34m\u001b[0m\u001b[0;34m\u001b[0m\u001b[0m\n\u001b[0;32m----> 2\u001b[0;31m \u001b[0mprint\u001b[0m\u001b[0;34m(\u001b[0m\u001b[0;34mf\"Hello\"\u001b[0m\u001b[0;34m+\u001b[0m \u001b[0;34m{\u001b[0m\u001b[0mx\u001b[0m\u001b[0;34m}\u001b[0m\u001b[0;34m)\u001b[0m\u001b[0;34m\u001b[0m\u001b[0;34m\u001b[0m\u001b[0m\n\u001b[0m",
            "\u001b[0;31mTypeError\u001b[0m: can only concatenate str (not \"set\") to str"
          ]
        }
      ]
    },
    {
      "cell_type": "markdown",
      "source": [
        "String case manipulation:"
      ],
      "metadata": {
        "id": "BvXhgnda6aaC"
      }
    },
    {
      "cell_type": "code",
      "source": [
        "# to upper case:\n",
        "\n",
        "\n",
        "# to lower case:\n",
        "\n",
        "\n",
        "# to title case:\n",
        "\n"
      ],
      "metadata": {
        "id": "qvwz0ruD6ejK"
      },
      "execution_count": 40,
      "outputs": []
    },
    {
      "cell_type": "markdown",
      "source": [
        "Strings are somewhat list-like, so we can convert them to lists of their characters, and perform operations such as list slicing (revisit after covering lists):"
      ],
      "metadata": {
        "id": "RvhJcbg76fXP"
      }
    },
    {
      "cell_type": "code",
      "source": [
        "# \"HELLO\"[0:3]"
      ],
      "metadata": {
        "id": "uzqkloCW6icH"
      },
      "execution_count": null,
      "outputs": []
    },
    {
      "cell_type": "code",
      "source": [
        "# list(\"HELLO\")"
      ],
      "metadata": {
        "id": "jFWYLzDF6omD"
      },
      "execution_count": null,
      "outputs": []
    },
    {
      "cell_type": "markdown",
      "source": [
        "## Booleans"
      ],
      "metadata": {
        "id": "iOmDak3chOVb"
      }
    },
    {
      "cell_type": "code",
      "source": [
        "print(True)\n",
        "\n",
        "print(False)"
      ],
      "metadata": {
        "id": "_F9koW6PhQMa",
        "outputId": "808b04ac-8b33-4469-b609-5a3252e32c6f",
        "colab": {
          "base_uri": "https://localhost:8080/",
          "height": 198
        }
      },
      "execution_count": 41,
      "outputs": [
        {
          "output_type": "error",
          "ename": "TypeError",
          "evalue": "ignored",
          "traceback": [
            "\u001b[0;31m---------------------------------------------------------------------------\u001b[0m",
            "\u001b[0;31mTypeError\u001b[0m                                 Traceback (most recent call last)",
            "\u001b[0;32m<ipython-input-41-df634d4f30a4>\u001b[0m in \u001b[0;36m<cell line: 1>\u001b[0;34m()\u001b[0m\n\u001b[0;32m----> 1\u001b[0;31m \u001b[0mprint\u001b[0m\u001b[0;34m(\u001b[0m\u001b[0;32mTrue\u001b[0m\u001b[0;34m)\u001b[0m\u001b[0;34m\u001b[0m\u001b[0;34m\u001b[0m\u001b[0m\n\u001b[0m\u001b[1;32m      2\u001b[0m \u001b[0;34m\u001b[0m\u001b[0m\n\u001b[1;32m      3\u001b[0m \u001b[0mprint\u001b[0m\u001b[0;34m(\u001b[0m\u001b[0;32mFalse\u001b[0m\u001b[0;34m)\u001b[0m\u001b[0;34m\u001b[0m\u001b[0;34m\u001b[0m\u001b[0m\n",
            "\u001b[0;31mTypeError\u001b[0m: 'str' object is not callable"
          ]
        }
      ]
    },
    {
      "cell_type": "markdown",
      "source": [
        "# Logical Operators"
      ],
      "metadata": {
        "id": "-yI9zLV1Fkuj"
      }
    },
    {
      "cell_type": "markdown",
      "source": [
        "https://www.w3schools.com/python/python_operators.asp"
      ],
      "metadata": {
        "id": "p-LOAbkK7g3L"
      }
    },
    {
      "cell_type": "markdown",
      "source": [
        "Equality checking:"
      ],
      "metadata": {
        "id": "FAAjPriY7iwS"
      }
    },
    {
      "cell_type": "code",
      "source": [
        "# True == False"
      ],
      "metadata": {
        "id": "5H_nbLDfkhRc"
      },
      "execution_count": null,
      "outputs": []
    },
    {
      "cell_type": "code",
      "source": [
        "# 2 + 2 == 4"
      ],
      "metadata": {
        "id": "pTp8u8sGkkxD"
      },
      "execution_count": null,
      "outputs": []
    },
    {
      "cell_type": "code",
      "source": [],
      "metadata": {
        "id": "l614JVvIkq4f"
      },
      "execution_count": null,
      "outputs": []
    },
    {
      "cell_type": "markdown",
      "source": [
        "Arithmetic operations:"
      ],
      "metadata": {
        "id": "1GZBOhqq7nxX"
      }
    },
    {
      "cell_type": "code",
      "source": [],
      "metadata": {
        "id": "XgYrqur1kwn2"
      },
      "execution_count": null,
      "outputs": []
    },
    {
      "cell_type": "markdown",
      "source": [
        "Inclusion checking (checking if substring in larger string, checking if item included in a list):"
      ],
      "metadata": {
        "id": "R2VshZ2n7tLn"
      }
    },
    {
      "cell_type": "code",
      "source": [],
      "metadata": {
        "id": "XNNARLjW7ukn"
      },
      "execution_count": null,
      "outputs": []
    },
    {
      "cell_type": "code",
      "source": [],
      "metadata": {
        "id": "zi8PvyPu7vNw"
      },
      "execution_count": null,
      "outputs": []
    },
    {
      "cell_type": "markdown",
      "source": [
        "# Conditional Logic"
      ],
      "metadata": {
        "id": "4-bfhqcNeSLL"
      }
    },
    {
      "cell_type": "code",
      "execution_count": null,
      "metadata": {
        "id": "aFccr05KeB5j"
      },
      "outputs": [],
      "source": []
    },
    {
      "cell_type": "code",
      "source": [],
      "metadata": {
        "id": "nx0QG-ANmMTb"
      },
      "execution_count": null,
      "outputs": []
    },
    {
      "cell_type": "code",
      "source": [],
      "metadata": {
        "id": "md5Utgs5mcNo"
      },
      "execution_count": null,
      "outputs": []
    },
    {
      "cell_type": "markdown",
      "source": [
        "Using compound expressions:"
      ],
      "metadata": {
        "id": "XtjFchJrnn1X"
      }
    },
    {
      "cell_type": "code",
      "source": [],
      "metadata": {
        "id": "ekllDKernpOw"
      },
      "execution_count": null,
      "outputs": []
    },
    {
      "cell_type": "code",
      "source": [],
      "metadata": {
        "id": "cl6QX6MbnvCo"
      },
      "execution_count": null,
      "outputs": []
    },
    {
      "cell_type": "markdown",
      "source": [
        "# Python Modules"
      ],
      "metadata": {
        "id": "ytBi6NpGl4u7"
      }
    },
    {
      "cell_type": "markdown",
      "source": [
        "## The `os` Module"
      ],
      "metadata": {
        "id": "t0yT0ArkZATh"
      }
    },
    {
      "cell_type": "markdown",
      "source": [
        "https://docs.python.org/3/library/os.html"
      ],
      "metadata": {
        "id": "TIb0PqzgZLRY"
      }
    },
    {
      "cell_type": "markdown",
      "source": [
        "Accessing the filesystem:"
      ],
      "metadata": {
        "id": "-2_LCLyiZNUV"
      }
    },
    {
      "cell_type": "code",
      "source": [],
      "metadata": {
        "id": "vO5oZqjtZLBO"
      },
      "execution_count": null,
      "outputs": []
    },
    {
      "cell_type": "code",
      "source": [],
      "metadata": {
        "id": "aimD6rWdZB8j"
      },
      "execution_count": null,
      "outputs": []
    },
    {
      "cell_type": "markdown",
      "source": [
        "## The `random` Module\n",
        "\n",
        "https://docs.python.org/3/library/random.html"
      ],
      "metadata": {
        "id": "nFy7Z_KXnlRn"
      }
    },
    {
      "cell_type": "code",
      "source": [
        "import random\n",
        "\n",
        "# generate a random number\n",
        "x = random.random()\n",
        "print(x)"
      ],
      "metadata": {
        "colab": {
          "base_uri": "https://localhost:8080/"
        },
        "id": "zUmIzJ3qoVag",
        "outputId": "9f7431b5-b4bf-4f90-9485-f32f6b7fe4b4"
      },
      "execution_count": null,
      "outputs": [
        {
          "output_type": "stream",
          "name": "stdout",
          "text": [
            "0.25236309836064164\n"
          ]
        }
      ]
    },
    {
      "cell_type": "code",
      "source": [
        "flavors = [\"vanilla bean\", \"chocolate\", \"strawberry\"]\n",
        "\n",
        "# how can we print one of these at random?\n",
        "\n"
      ],
      "metadata": {
        "id": "QBezh0ffpXbZ"
      },
      "execution_count": null,
      "outputs": []
    },
    {
      "cell_type": "markdown",
      "source": [
        "## The `statistics` Module"
      ],
      "metadata": {
        "id": "I2E2ONoYGcWd"
      }
    },
    {
      "cell_type": "markdown",
      "source": [
        "https://docs.python.org/3/library/statistics.html"
      ],
      "metadata": {
        "id": "470VA2LrF5yH"
      }
    },
    {
      "cell_type": "code",
      "source": [],
      "metadata": {
        "id": "V-7rdKYRF68m"
      },
      "execution_count": null,
      "outputs": []
    },
    {
      "cell_type": "code",
      "source": [],
      "metadata": {
        "id": "ie1ljqwMF7UG"
      },
      "execution_count": null,
      "outputs": []
    },
    {
      "cell_type": "markdown",
      "source": [
        "# Custom Functions"
      ],
      "metadata": {
        "id": "ub34JcW029qz"
      }
    }
  ]
}